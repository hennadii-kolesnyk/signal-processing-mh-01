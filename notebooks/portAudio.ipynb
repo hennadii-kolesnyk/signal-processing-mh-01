{
 "cells": [
  {
   "cell_type": "code",
   "execution_count": 1,
   "metadata": {},
   "outputs": [],
   "source": [
    "import pyaudio\n",
    "from modules import recordingDeviceSelection\n",
    "from modules import convertFramesToWAW\n",
    "import sys\n",
    "import numpy as np\n",
    "import utility\n",
    "import pickle"
   ]
  },
  {
   "cell_type": "code",
   "execution_count": 2,
   "metadata": {},
   "outputs": [
    {
     "name": "stdout",
     "output_type": "stream",
     "text": [
      "Input Device id 0 - Built-in Microphone, Channels count: 2, Default sample rate: 44100.0\n",
      "Chose device: 0\n"
     ]
    }
   ],
   "source": [
    "# Initialize port audio library\n",
    "p = pyaudio.PyAudio()\n",
    "\n",
    "# Get device\n",
    "device = recordingDeviceSelection.get_recording_device(p)"
   ]
  },
  {
   "cell_type": "code",
   "execution_count": 3,
   "metadata": {},
   "outputs": [],
   "source": [
    "# Setting up streap characteristics\n",
    "options = {\n",
    "    \"chunk\": 1024,\n",
    "    \"format\": pyaudio.paInt16,\n",
    "    \"channels\": int(device.get('maxInputChannels')),\n",
    "    \"rate\": int(device.get('defaultSampleRate')),\n",
    "    \"sample_width\": p.get_sample_size(pyaudio.paInt16),\n",
    "    \"input_device_index\": int(device.get('index')),\n",
    "    \"record_seconds\": 3\n",
    "}"
   ]
  },
  {
   "cell_type": "code",
   "execution_count": 4,
   "metadata": {},
   "outputs": [
    {
     "name": "stdout",
     "output_type": "stream",
     "text": [
      "Recording started...\n",
      "Frame length: 4096\n",
      "Recording stoped.\n"
     ]
    }
   ],
   "source": [
    "# Open streaming\n",
    "stream = p.open(\n",
    "    format=options.get('format'),\n",
    "    channels=options.get('channels'),\n",
    "    rate=options.get('rate'),\n",
    "    input_device_index = options.get('input_device_index'),\n",
    "    input=True,\n",
    "    frames_per_buffer=options.get('chunk')\n",
    ")\n",
    "\n",
    "print(\"Recording started...\")\n",
    "\n",
    "frames = []\n",
    "\n",
    "# Write data from mic to frame array\n",
    "steamLength = int(options.get('rate') / options.get('chunk') * options.get('record_seconds'))\n",
    "for i in range(0, steamLength):\n",
    "    data = stream.read(options.get('chunk'))\n",
    "    frames.append(data)\n",
    "\n",
    "print(\"Frame length:\", len(frames[0]))\n",
    "print(\"Recording stoped.\")\n",
    "\n",
    "# Stop streaming\n",
    "stream.stop_stream()\n",
    "stream.close()\n",
    "p.terminate()"
   ]
  },
  {
   "cell_type": "code",
   "execution_count": 5,
   "metadata": {},
   "outputs": [],
   "source": [
    "sig = np.frombuffer(data, dtype='<i2').reshape(-1, options.get('channels'))\n",
    "\n",
    "with open('sig2.pickle', 'wb') as f:\n",
    "    pickle.dump(sig, f)\n",
    "\n",
    "normalized = utility.pcm2float(sig, np.float32)"
   ]
  },
  {
   "cell_type": "code",
   "execution_count": 6,
   "metadata": {},
   "outputs": [
    {
     "data": {
      "text/plain": [
       "[<matplotlib.lines.Line2D at 0x111df1850>,\n",
       " <matplotlib.lines.Line2D at 0x111ec1b50>]"
      ]
     },
     "execution_count": 6,
     "metadata": {},
     "output_type": "execute_result"
    },
    {
     "data": {
      "image/png": "[encoded data removed]",
      "text/plain": [
       "<Figure size 432x288 with 1 Axes>"
      ]
     },
     "metadata": {
      "needs_background": "light"
     },
     "output_type": "display_data"
    }
   ],
   "source": [
    "%matplotlib inline\n",
    "import matplotlib.pyplot as plt\n",
    "import numpy as np\n",
    "\n",
    "plt.plot(normalized)"
   ]
  },
  {
   "cell_type": "code",
   "execution_count": null,
   "metadata": {},
   "outputs": [],
   "source": [
    "normalized.shape"
   ]
  },
  {
   "cell_type": "code",
   "execution_count": 8,
   "metadata": {},
   "outputs": [
    {
     "data": {
      "application/vnd.jupyter.widget-view+json": {
       "model_id": "e444c8c7f8794f2d88a9597b03b8be35",
       "version_major": 2,
       "version_minor": 0
      },
      "text/plain": [
       "interactive(children=(FloatRangeSlider(value=(0.01, 3.0), continuous_update=False, description='time', max=3.0…"
      ]
     },
     "metadata": {},
     "output_type": "display_data"
    }
   ],
   "source": [
    "import ipywidgets as widgets\n",
    "from ipywidgets import interact\n",
    "\n",
    "slider = widgets.FloatRangeSlider(value=[0,3.0],min=0.01,max=3.0,step=0.001,continuous_update=False)\n",
    "\n",
    "def calculate_intervals(time):\n",
    "    x = (1*time/options.get('record_seconds'))\n",
    "    return int(frames*x)\n",
    "\n",
    "def plot_graph(time):\n",
    "    interval1 = calculate_intervals(time[0])\n",
    "    interval2 = calculate_intervals(time[1])\n",
    "    res = []\n",
    "    for i in sig.T:\n",
    "        res.append(i[interval1:interval2])\n",
    "    \n",
    "    plt.plot(np.array(res).T)\n",
    "\n",
    "\n",
    "interact(plot_graph,time=slider);\n",
    "\n"
   ]
  },
  {
   "cell_type": "code",
   "execution_count": 9,
   "metadata": {},
   "outputs": [
    {
     "ename": "ModuleNotFoundError",
     "evalue": "No module named 'scipy'",
     "output_type": "error",
     "traceback": [
      "\u001b[0;31m---------------------------------------------------------------------------\u001b[0m",
      "\u001b[0;31mModuleNotFoundError\u001b[0m                       Traceback (most recent call last)",
      "\u001b[0;32m<ipython-input-9-6d840b12323f>\u001b[0m in \u001b[0;36m<module>\u001b[0;34m\u001b[0m\n\u001b[0;32m----> 1\u001b[0;31m \u001b[0;32mfrom\u001b[0m \u001b[0mscipy\u001b[0m\u001b[0;34m.\u001b[0m\u001b[0mndimage\u001b[0m\u001b[0;34m.\u001b[0m\u001b[0minterpolation\u001b[0m \u001b[0;32mimport\u001b[0m \u001b[0mshift\u001b[0m\u001b[0;34m\u001b[0m\u001b[0;34m\u001b[0m\u001b[0m\n\u001b[0m\u001b[1;32m      2\u001b[0m \u001b[0;34m\u001b[0m\u001b[0m\n\u001b[1;32m      3\u001b[0m \u001b[0mangles\u001b[0m \u001b[0;34m=\u001b[0m \u001b[0mnp\u001b[0m\u001b[0;34m.\u001b[0m\u001b[0marray\u001b[0m\u001b[0;34m(\u001b[0m\u001b[0;34m[\u001b[0m\u001b[0;34m-\u001b[0m\u001b[0;36m75\u001b[0m\u001b[0;34m,\u001b[0m \u001b[0;34m-\u001b[0m\u001b[0;36m70\u001b[0m\u001b[0;34m,\u001b[0m \u001b[0;34m-\u001b[0m\u001b[0;36m65\u001b[0m\u001b[0;34m,\u001b[0m \u001b[0;34m-\u001b[0m\u001b[0;36m60\u001b[0m\u001b[0;34m,\u001b[0m \u001b[0;34m-\u001b[0m\u001b[0;36m55\u001b[0m\u001b[0;34m,\u001b[0m \u001b[0;34m-\u001b[0m\u001b[0;36m50\u001b[0m\u001b[0;34m,\u001b[0m \u001b[0;34m-\u001b[0m\u001b[0;36m45\u001b[0m\u001b[0;34m,\u001b[0m \u001b[0;34m-\u001b[0m\u001b[0;36m40\u001b[0m\u001b[0;34m,\u001b[0m \u001b[0;34m-\u001b[0m\u001b[0;36m35\u001b[0m\u001b[0;34m,\u001b[0m \u001b[0;34m-\u001b[0m\u001b[0;36m30\u001b[0m\u001b[0;34m,\u001b[0m \u001b[0;34m-\u001b[0m\u001b[0;36m25\u001b[0m\u001b[0;34m,\u001b[0m \u001b[0;34m-\u001b[0m\u001b[0;36m20\u001b[0m\u001b[0;34m,\u001b[0m \u001b[0;34m-\u001b[0m\u001b[0;36m15\u001b[0m\u001b[0;34m,\u001b[0m \u001b[0;34m-\u001b[0m\u001b[0;36m10\u001b[0m\u001b[0;34m,\u001b[0m \u001b[0;34m-\u001b[0m\u001b[0;36m5\u001b[0m\u001b[0;34m,\u001b[0m \u001b[0;36m0\u001b[0m\u001b[0;34m,\u001b[0m \u001b[0;36m5\u001b[0m\u001b[0;34m,\u001b[0m \u001b[0;36m10\u001b[0m\u001b[0;34m,\u001b[0m \u001b[0;36m15\u001b[0m\u001b[0;34m,\u001b[0m \u001b[0;36m20\u001b[0m\u001b[0;34m,\u001b[0m \u001b[0;36m25\u001b[0m\u001b[0;34m,\u001b[0m \u001b[0;36m30\u001b[0m\u001b[0;34m,\u001b[0m \u001b[0;36m35\u001b[0m\u001b[0;34m,\u001b[0m \u001b[0;36m40\u001b[0m\u001b[0;34m,\u001b[0m \u001b[0;36m45\u001b[0m\u001b[0;34m,\u001b[0m \u001b[0;36m50\u001b[0m\u001b[0;34m,\u001b[0m \u001b[0;36m55\u001b[0m\u001b[0;34m,\u001b[0m \u001b[0;36m60\u001b[0m\u001b[0;34m,\u001b[0m \u001b[0;36m65\u001b[0m\u001b[0;34m,\u001b[0m \u001b[0;36m70\u001b[0m\u001b[0;34m,\u001b[0m \u001b[0;36m75\u001b[0m\u001b[0;34m]\u001b[0m\u001b[0;34m)\u001b[0m\u001b[0;34m\u001b[0m\u001b[0;34m\u001b[0m\u001b[0m\n\u001b[1;32m      4\u001b[0m offsets = np.array([\n\u001b[1;32m      5\u001b[0m     \u001b[0;34m[\u001b[0m\u001b[0;34m-\u001b[0m\u001b[0;36m164\u001b[0m\u001b[0;34m,\u001b[0m \u001b[0;34m-\u001b[0m\u001b[0;36m82\u001b[0m\u001b[0;34m,\u001b[0m \u001b[0;36m82\u001b[0m\u001b[0;34m,\u001b[0m \u001b[0;36m164\u001b[0m\u001b[0;34m]\u001b[0m\u001b[0;34m,\u001b[0m\u001b[0;34m\u001b[0m\u001b[0;34m\u001b[0m\u001b[0m\n",
      "\u001b[0;31mModuleNotFoundError\u001b[0m: No module named 'scipy'"
     ]
    }
   ],
   "source": [
    "from scipy.ndimage.interpolation import shift\n",
    "\n",
    "angles = np.array([-75, -70, -65, -60, -55, -50, -45, -40, -35, -30, -25, -20, -15, -10, -5, 0, 5, 10, 15, 20, 25, 30, 35, 40, 45, 50, 55, 60, 65, 70, 75])\n",
    "offsets = np.array([\n",
    "    [-164, -82, 82, 164],\n",
    "    [-160, -80, 80, 160],\n",
    "    [-154, -77, 77, 154],\n",
    "    [-146, -73, 73, 146],\n",
    "    [-138, -69, 69, 138],\n",
    "    [-130, -65, 65, 130],\n",
    "    [-120, -60, 60, 120],\n",
    "    [-108, -54, 54, 108],\n",
    "    [-98, -49, 49, 98],\n",
    "    [-84, -42, 42, 84],\n",
    "    [-72, -36, 36, 72],\n",
    "    [-58, -29, 29, 58],\n",
    "    [-44, -22, 22, 44],\n",
    "    [-30, -15, 15, 30],\n",
    "    [-14, -7, 7, 14],\n",
    "    [0, 0, 0, 0],\n",
    "    [14, 7, -7, -14],\n",
    "    [30, 15, -15, -30],\n",
    "    [44, 22, -22, -44],\n",
    "    [58, 29, -29, -58],\n",
    "    [72, 36, -36, -72],\n",
    "    [84, 42, -42, -84],\n",
    "    [98, 49, -49, -98],\n",
    "    [108, 54, -54, -108],\n",
    "    [120, 60, -60, -120],\n",
    "    [130, 65, -65, -130],\n",
    "    [138, 69, -69, -138],\n",
    "    [146, 73, -73, -146],\n",
    "    [154, 77, -77, -154],\n",
    "    [160, 80, -80, -160],\n",
    "    [164, 82, -82, -164]\n",
    "]);\n",
    "\n",
    "directions = np.array([np.sum(np.array([shift(channel,bias,cval=0) for (channel,bias) in zip(sig.T, offset)]).T, axis=1) for offset in offsets])\n",
    "\n",
    "rms = np.array([np.sqrt(np.mean(direction**2)) for direction in directions])\n",
    "plt.plot(angles, rms, marker='o')"
   ]
  },
  {
   "cell_type": "code",
   "execution_count": null,
   "metadata": {},
   "outputs": [],
   "source": [
    "theta = [angle/180.0*np.pi for angle in angles]\n",
    "ax = plt.subplot(111, projection='polar')\n",
    "ax.plot(theta, rms, marker='o')"
   ]
  },
  {
   "cell_type": "code",
   "execution_count": null,
   "metadata": {},
   "outputs": [],
   "source": [
    "xmax,ymax = -15,9380\n",
    "\n",
    "plt.plot(angles, rms, marker='o')\n",
    "plt.annotate('max',\n",
    "             xy=(xmax, ymax),\n",
    "             xytext=(xmax+10, ymax+30), fontsize=16, xycoords='data',\n",
    "             arrowprops=dict(arrowstyle=\"->\", connectionstyle=\"arc3,rad=.2\"))\n",
    "\n"
   ]
  },
  {
   "cell_type": "code",
   "execution_count": null,
   "metadata": {},
   "outputs": [],
   "source": [
    "from scipy import signal\n",
    "import numpy as np\n",
    "\n",
    "a = np.array([1,2,5,6]).T\n",
    "b = np.array([3,2,5,7]).T\n",
    "\n",
    "c = signal.correlate(a,b,method='direct',mode='full')\n",
    "print(c)"
   ]
  },
  {
   "cell_type": "code",
   "execution_count": null,
   "metadata": {},
   "outputs": [],
   "source": [
    "rms.argmax()"
   ]
  },
  {
   "cell_type": "code",
   "execution_count": null,
   "metadata": {},
   "outputs": [],
   "source": []
  }
 ],
 "metadata": {
  "kernelspec": {
   "display_name": "Python 3",
   "language": "python",
   "name": "python3"
  },
  "language_info": {
   "codemirror_mode": {
    "name": "ipython",
    "version": 3
   },
   "file_extension": ".py",
   "mimetype": "text/x-python",
   "name": "python",
   "nbconvert_exporter": "python",
   "pygments_lexer": "ipython3",
   "version": "3.7.4"
  }
 },
 "nbformat": 4,
 "nbformat_minor": 2
}
