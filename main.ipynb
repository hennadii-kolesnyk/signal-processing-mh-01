{
 "cells": [
  {
   "cell_type": "code",
   "execution_count": 16,
   "metadata": {
    "pycharm": {
     "is_executing": false
    }
   },
   "outputs": [],
   "source": [
    "import api\n",
    "import numpy as np\n",
    "import pickle"
   ]
  },
  {
   "cell_type": "code",
   "execution_count": 17,
   "metadata": {
    "pycharm": {
     "is_executing": false,
     "metadata": false,
     "name": "#%%\n"
    }
   },
   "outputs": [],
   "source": [
    "with open('recording/data/master/sig1.pickle', 'rb') as f:\n",
    "    sig1 = pickle.load(f)\n",
    "    \n",
    "angles = np.array([\n",
    "    -75, -70, -65, -60, -55, -50, -45, -40, -35, -30, -25, -20, -15, -10, -5, \n",
    "    0,\n",
    "    +5, +10, +15, +20, +25, +30, +35, +40, +45, +50, +55, +60, +65, +70, +75\n",
    "])\n",
    "offsets = np.array([\n",
    "    [-164, -82, 82, 164],\n",
    "    [-160, -80, 80, 160],\n",
    "    [-154, -77, 77, 154],\n",
    "    [-146, -73, 73, 146],\n",
    "    [-138, -69, 69, 138],\n",
    "    [-130, -65, 65, 130],\n",
    "    [-120, -60, 60, 120],\n",
    "    [-108, -54, 54, 108],\n",
    "    [-98, -49, 49, 98],\n",
    "    [-84, -42, 42, 84],\n",
    "    [-72, -36, 36, 72],\n",
    "    [-58, -29, 29, 58],\n",
    "    [-44, -22, 22, 44],\n",
    "    [-30, -15, 15, 30],\n",
    "    [-14, -7, 7, 14],\n",
    "    [0, 0, 0, 0],\n",
    "    [14, 7, -7, -14],\n",
    "    [30, 15, -15, -30],\n",
    "    [44, 22, -22, -44],\n",
    "    [58, 29, -29, -58],\n",
    "    [72, 36, -36, -72],\n",
    "    [84, 42, -42, -84],\n",
    "    [98, 49, -49, -98],\n",
    "    [108, 54, -54, -108],\n",
    "    [120, 60, -60, -120],\n",
    "    [130, 65, -65, -130],\n",
    "    [138, 69, -69, -138],\n",
    "    [146, 73, -73, -146],\n",
    "    [154, 77, -77, -154],\n",
    "    [160, 80, -80, -160],\n",
    "    [164, 82, -82, -164]\n",
    "], dtype='double')"
   ]
  },
  {
   "cell_type": "code",
   "execution_count": 19,
   "metadata": {
    "pycharm": {
     "is_executing": false,
     "metadata": false,
     "name": "#%%\n"
    }
   },
   "outputs": [
    {
     "name": "stdout",
     "output_type": "stream",
     "text": [
      "210 ms ± 4.1 ms per loop (mean ± std. dev. of 7 runs, 1 loop each)\n"
     ]
    }
   ],
   "source": [
    "%timeit api.calculate_signals(offsets, sig1.T)"
   ]
  }
 ],
 "metadata": {
  "kernelspec": {
   "display_name": "Python 3",
   "language": "python",
   "name": "python3"
  },
  "language_info": {
   "codemirror_mode": {
    "name": "ipython",
    "version": 3
   },
   "file_extension": ".py",
   "mimetype": "text/x-python",
   "name": "python",
   "nbconvert_exporter": "python",
   "pygments_lexer": "ipython3",
   "version": "3.6.8"
  }
 },
 "nbformat": 4,
 "nbformat_minor": 1
}
