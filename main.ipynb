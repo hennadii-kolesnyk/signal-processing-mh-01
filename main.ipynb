{
  "cells": [
    {
      "cell_type": "code",
      "execution_count": 3,
      "metadata": {
        "collapsed": true,
        "pycharm": {
          "is_executing": false
        }
      },
      "outputs": [],
      "source": "import api\nimport numpy as np\n\narr \u003d np.random.randint(10,size\u003d1000000,dtype\u003d\u0027short\u0027)"
    },
    {
      "cell_type": "code",
      "execution_count": 4,
      "outputs": [],
      "source": "def shift5(arr, num):\n    result \u003d np.empty_like(arr)\n    if num \u003e 0:\n        result[:num] \u003d 0\n        result[num:] \u003d arr[:-num]\n    elif num \u003c 0:\n        result[num:] \u003d 0\n        result[:num] \u003d arr[-num:]\n    else:\n        result \u003d arr\n    return result",
      "metadata": {
        "pycharm": {
          "metadata": false,
          "name": "#%%\n",
          "is_executing": false
        }
      }
    },
    {
      "cell_type": "code",
      "execution_count": 5,
      "outputs": [],
      "source": "import pickle\n\nwith open(\u0027sig1.pickle\u0027, \u0027rb\u0027) as f:\n    sig1 \u003d pickle.load(f)\n    \nangles \u003d np.array([-75, -70, -65, -60, -55, -50, -45, -40, -35, -30, -25, -20, -15, -10, -5, 0, 5, 10, 15, 20, 25, 30, 35, 40, 45, 50, 55, 60, 65, 70, 75])\noffsets \u003d np.array([\n    [-164, -82, 82, 164],\n    [-160, -80, 80, 160],\n    [-154, -77, 77, 154],\n    [-146, -73, 73, 146],\n    [-138, -69, 69, 138],\n    [-130, -65, 65, 130],\n    [-120, -60, 60, 120],\n    [-108, -54, 54, 108],\n    [-98, -49, 49, 98],\n    [-84, -42, 42, 84],\n    [-72, -36, 36, 72],\n    [-58, -29, 29, 58],\n    [-44, -22, 22, 44],\n    [-30, -15, 15, 30],\n    [-14, -7, 7, 14],\n    [0, 0, 0, 0],\n    [14, 7, -7, -14],\n    [30, 15, -15, -30],\n    [44, 22, -22, -44],\n    [58, 29, -29, -58],\n    [72, 36, -36, -72],\n    [84, 42, -42, -84],\n    [98, 49, -49, -98],\n    [108, 54, -54, -108],\n    [120, 60, -60, -120],\n    [130, 65, -65, -130],\n    [138, 69, -69, -138],\n    [146, 73, -73, -146],\n    [154, 77, -77, -154],\n    [160, 80, -80, -160],\n    [164, 82, -82, -164]\n], dtype\u003d\u0027short\u0027)\n\nchannels1 \u003d sig1.T",
      "metadata": {
        "pycharm": {
          "metadata": false,
          "name": "#%%\n",
          "is_executing": false
        }
      }
    },
    {
      "cell_type": "code",
      "execution_count": 6,
      "outputs": [
        {
          "name": "stdout",
          "text": [
            "142 ms ± 9.11 ms per loop (mean ± std. dev. of 7 runs, 1 loop each)\n"
          ],
          "output_type": "stream"
        }
      ],
      "source": "%timeit api.calculate_signals(offsets, sig1, channels1)",
      "metadata": {
        "pycharm": {
          "metadata": false,
          "name": "#%%\n",
          "is_executing": false
        }
      }
    },
    {
      "cell_type": "code",
      "execution_count": null,
      "outputs": [],
      "source": "\n",
      "metadata": {
        "pycharm": {
          "metadata": false,
          "name": "#%%\n"
        }
      }
    }
  ],
  "metadata": {
    "language_info": {
      "codemirror_mode": {
        "name": "ipython",
        "version": 2
      },
      "file_extension": ".py",
      "mimetype": "text/x-python",
      "name": "python",
      "nbconvert_exporter": "python",
      "pygments_lexer": "ipython2",
      "version": "2.7.6"
    },
    "kernelspec": {
      "name": "python3",
      "language": "python",
      "display_name": "Python 3"
    }
  },
  "nbformat": 4,
  "nbformat_minor": 0
}