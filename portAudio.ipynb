{
 "cells": [
  {
   "cell_type": "code",
   "execution_count": 2,
   "metadata": {},
   "outputs": [
    {
     "name": "stdout",
     "output_type": "stream",
     "text": [
      "Input Device id 0 - HDA Intel PCH: ALC270 Analog (hw:0,0), Channels count: 2, Default sample rate: 44100.0\n",
      "Input Device id 2 - sysdefault, Channels count: 128, Default sample rate: 48000.0\n",
      "Input Device id 8 - pulse, Channels count: 32, Default sample rate: 44100.0\n",
      "Input Device id 10 - default, Channels count: 32, Default sample rate: 44100.0\n",
      "Chose device: 2\n",
      "start recording\n",
      "140\n",
      "stop recording\n",
      "sampling rate: 48000 Hz\n",
      "length: 143360 samples\n",
      "channels: 128\n",
      "sample width: 2 bytes\n",
      "36700160\n"
     ]
    }
   ],
   "source": [
    "import pyaudio\n",
    "import wave\n",
    "import datetime\n",
    "import time\n",
    "import sys\n",
    "import numpy as np\n",
    "import utility\n",
    "import pickle\n",
    "\n",
    "st = datetime.datetime.fromtimestamp(time.time()).strftime('%Y-%m-%d %H:%M:%S')\n",
    "\n",
    "p = pyaudio.PyAudio()\n",
    "info = p.get_host_api_info_by_index(0);\n",
    "numdevices = info.get('deviceCount')\n",
    "for i in range(0, numdevices):\n",
    "        dev = p.get_device_info_by_host_api_device_index(0, i);\n",
    "        if (dev.get('maxInputChannels')) > 0:\n",
    "            print (\n",
    "                \"Input Device id \"+ str(i)+ \" - \"+ dev.get('name')+ \n",
    "                \", Channels count: \"+ str(dev.get('maxInputChannels')) +\n",
    "                \", Default sample rate: \" + str(dev.get('defaultSampleRate'))\n",
    "            )\n",
    "\n",
    "try:\n",
    "    input = raw_input\n",
    "except NameError:\n",
    "    pass\n",
    "\n",
    "device = p.get_device_info_by_host_api_device_index(0, int(input(\"Chose device: \")));\n",
    "\n",
    "CHUNK = 1024;\n",
    "FORMAT = pyaudio.paInt16;\n",
    "CHANNELS = int(device.get('maxInputChannels'));\n",
    "RATE = int(device.get('defaultSampleRate'));\n",
    "#RATE = 192000;\n",
    "INPUT_DEVICE_INDEX = int(device.get('index'));\n",
    "RECORD_SECONDS = 3\n",
    "WAVE_OUTPUT_FILENAME = st+\".wav\"\n",
    "\n",
    "stream = p.open(format=FORMAT,\n",
    "                channels=CHANNELS,\n",
    "                rate=RATE,\n",
    "                input_device_index = INPUT_DEVICE_INDEX,\n",
    "                input=True,\n",
    "                frames_per_buffer=CHUNK)\n",
    "\n",
    "print(\"start recording\")\n",
    "\n",
    "frames = []\n",
    "\n",
    "for i in range(0, int(RATE / CHUNK * RECORD_SECONDS)):\n",
    "    data = stream.read(CHUNK)\n",
    "    frames.append(data)\n",
    "\n",
    "print(len(frames));\n",
    "print(\"stop recording\")\n",
    "\n",
    "stream.stop_stream()\n",
    "stream.close()\n",
    "p.terminate()\n",
    "\n",
    "wf = wave.open(WAVE_OUTPUT_FILENAME, 'wb')\n",
    "wf.setnchannels(CHANNELS)\n",
    "wf.setsampwidth(p.get_sample_size(FORMAT))\n",
    "wf.setframerate(RATE)\n",
    "wf.writeframes(b''.join(frames))\n",
    "wf.close()\n",
    "\n",
    "with wave.open(WAVE_OUTPUT_FILENAME) as w:\n",
    "    framerate = w.getframerate()\n",
    "    frames = w.getnframes()\n",
    "    channels = w.getnchannels()\n",
    "    width = w.getsampwidth()\n",
    "    print('sampling rate:', framerate, 'Hz')\n",
    "    print('length:', frames, 'samples')\n",
    "    print('channels:', channels)\n",
    "    print('sample width:', width, 'bytes')\n",
    "    \n",
    "    data = w.readframes(frames)\n",
    "    \n",
    "    print(len(data))"
   ]
  },
  {
   "cell_type": "code",
   "execution_count": null,
   "metadata": {},
   "outputs": [],
   "source": [
    "sig = np.frombuffer(data, dtype='<i2').reshape(-1, channels)\n",
    "\n",
    "with open('sig2.pickle', 'wb') as f:\n",
    "    pickle.dump(sig, f)\n",
    "\n",
    "normalized = utility.pcm2float(sig, np.float32)"
   ]
  },
  {
   "cell_type": "code",
   "execution_count": null,
   "metadata": {},
   "outputs": [],
   "source": [
    "%matplotlib inline\n",
    "import matplotlib.pyplot as plt\n",
    "import numpy as np\n",
    "\n",
    "plt.plot(normalized)"
   ]
  },
  {
   "cell_type": "code",
   "execution_count": null,
   "metadata": {},
   "outputs": [],
   "source": [
    "normalized.shape"
   ]
  },
  {
   "cell_type": "code",
   "execution_count": null,
   "metadata": {},
   "outputs": [],
   "source": [
    "import ipywidgets as widgets\n",
    "from ipywidgets import interact\n",
    "\n",
    "slider = widgets.FloatRangeSlider(value=[0,3.0],min=0.01,max=3.0,step=0.001,continuous_update=False)\n",
    "\n",
    "def calculate_intervals(time):\n",
    "    x = (1*time/RECORD_SECONDS)\n",
    "    return int(frames*x)\n",
    "\n",
    "def plot_graph(time):\n",
    "    interval1 = calculate_intervals(time[0])\n",
    "    interval2 = calculate_intervals(time[1])\n",
    "    res = []\n",
    "    for i in sig.T:\n",
    "        res.append(i[interval1:interval2])\n",
    "    \n",
    "    plt.plot(np.array(res).T)\n",
    "\n",
    "\n",
    "interact(plot_graph,time=slider);\n",
    "\n"
   ]
  },
  {
   "cell_type": "code",
   "execution_count": null,
   "metadata": {},
   "outputs": [],
   "source": [
    "from scipy.ndimage.interpolation import shift\n",
    "\n",
    "angles = np.array([-75, -70, -65, -60, -55, -50, -45, -40, -35, -30, -25, -20, -15, -10, -5, 0, 5, 10, 15, 20, 25, 30, 35, 40, 45, 50, 55, 60, 65, 70, 75])\n",
    "offsets = np.array([\n",
    "    [-164, -82, 82, 164],\n",
    "    [-160, -80, 80, 160],\n",
    "    [-154, -77, 77, 154],\n",
    "    [-146, -73, 73, 146],\n",
    "    [-138, -69, 69, 138],\n",
    "    [-130, -65, 65, 130],\n",
    "    [-120, -60, 60, 120],\n",
    "    [-108, -54, 54, 108],\n",
    "    [-98, -49, 49, 98],\n",
    "    [-84, -42, 42, 84],\n",
    "    [-72, -36, 36, 72],\n",
    "    [-58, -29, 29, 58],\n",
    "    [-44, -22, 22, 44],\n",
    "    [-30, -15, 15, 30],\n",
    "    [-14, -7, 7, 14],\n",
    "    [0, 0, 0, 0],\n",
    "    [14, 7, -7, -14],\n",
    "    [30, 15, -15, -30],\n",
    "    [44, 22, -22, -44],\n",
    "    [58, 29, -29, -58],\n",
    "    [72, 36, -36, -72],\n",
    "    [84, 42, -42, -84],\n",
    "    [98, 49, -49, -98],\n",
    "    [108, 54, -54, -108],\n",
    "    [120, 60, -60, -120],\n",
    "    [130, 65, -65, -130],\n",
    "    [138, 69, -69, -138],\n",
    "    [146, 73, -73, -146],\n",
    "    [154, 77, -77, -154],\n",
    "    [160, 80, -80, -160],\n",
    "    [164, 82, -82, -164]\n",
    "]);\n",
    "\n",
    "directions = np.array([np.sum(np.array([shift(channel,bias,cval=0) for (channel,bias) in zip(sig.T, offset)]).T, axis=1) for offset in offsets])\n",
    "\n",
    "rms = np.array([np.sqrt(np.mean(direction**2)) for direction in directions])\n",
    "plt.plot(angles, rms, marker='o')"
   ]
  },
  {
   "cell_type": "code",
   "execution_count": null,
   "metadata": {},
   "outputs": [],
   "source": [
    "theta = [angle/180.0*np.pi for angle in angles]\n",
    "ax = plt.subplot(111, projection='polar')\n",
    "ax.plot(theta, rms, marker='o')"
   ]
  },
  {
   "cell_type": "code",
   "execution_count": null,
   "metadata": {},
   "outputs": [],
   "source": [
    "xmax,ymax = -15,9380\n",
    "\n",
    "plt.plot(angles, rms, marker='o')\n",
    "plt.annotate('max',\n",
    "             xy=(xmax, ymax),\n",
    "             xytext=(xmax+10, ymax+30), fontsize=16, xycoords='data',\n",
    "             arrowprops=dict(arrowstyle=\"->\", connectionstyle=\"arc3,rad=.2\"))\n",
    "\n"
   ]
  },
  {
   "cell_type": "code",
   "execution_count": null,
   "metadata": {},
   "outputs": [],
   "source": [
    "from scipy import signal\n",
    "import numpy as np\n",
    "\n",
    "a = np.array([1,2,5,6]).T\n",
    "b = np.array([3,2,5,7]).T\n",
    "\n",
    "c = signal.correlate(a,b,method='direct',mode='full')\n",
    "print(c)"
   ]
  },
  {
   "cell_type": "code",
   "execution_count": null,
   "metadata": {},
   "outputs": [],
   "source": [
    "rms.argmax()"
   ]
  },
  {
   "cell_type": "code",
   "execution_count": null,
   "metadata": {},
   "outputs": [],
   "source": []
  }
 ],
 "metadata": {
  "kernelspec": {
   "display_name": "Python 3",
   "language": "python",
   "name": "python3"
  },
  "language_info": {
   "codemirror_mode": {
    "name": "ipython",
    "version": 3
   },
   "file_extension": ".py",
   "mimetype": "text/x-python",
   "name": "python",
   "nbconvert_exporter": "python",
   "pygments_lexer": "ipython3",
   "version": "3.6.8"
  }
 },
 "nbformat": 4,
 "nbformat_minor": 2
}
